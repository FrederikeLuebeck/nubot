{
 "cells": [
  {
   "cell_type": "markdown",
   "metadata": {},
   "source": [
    "# Visualize cell results\n",
    "\n",
    "Requires trained and evaluated models on cell data."
   ]
  },
  {
   "cell_type": "code",
   "execution_count": null,
   "metadata": {},
   "outputs": [],
   "source": [
    "import pandas as pd\n",
    "import numpy as np\n",
    "import os\n",
    "from pathlib import Path\n",
    "import seaborn as sns\n",
    "import matplotlib.pyplot as plt\n",
    "\n",
    "from unot.plotting.setup import setup_plt\n",
    "setup_plt()"
   ]
  },
  {
   "cell_type": "code",
   "execution_count": null,
   "metadata": {},
   "outputs": [],
   "source": [
    "DRUGS = [\n",
    "        \"cisplatin\",\n",
    "        \"crizotinib\",\n",
    "        \"dabrafenib\",\n",
    "        \"dacarbazine\",\n",
    "        \"dasatinib\",\n",
    "        \"decitabine\",\n",
    "        \"dexamethasone\",\n",
    "        \"erlotinib\",\n",
    "        \"everolimus\",\n",
    "        \"hydroxyurea\",\n",
    "        \"imatinib\",\n",
    "        \"ixazomib\",\n",
    "        \"lenalidomide\",\n",
    "        \"melphalan\",\n",
    "        \"midostaurin\",\n",
    "        \"mln\",\n",
    "        \"olaparib\",\n",
    "        \"paclitaxel\",\n",
    "        \"palbociclib\",\n",
    "        \"panobinostat\",\n",
    "        \"regorafenib\",\n",
    "        \"sorafenib\",\n",
    "        \"staurosporine\",\n",
    "        \"temozolomide\",\n",
    "        \"trametinib\",\n",
    "        \"ulixertinib\",\n",
    "        \"vindesine\",\n",
    "    ]"
   ]
  },
  {
   "cell_type": "code",
   "execution_count": null,
   "metadata": {},
   "outputs": [],
   "source": [
    "# create the dataframes containing evaluation metrics\n",
    "results = pd.DataFrame(columns=[\"drug\", \"model\", \"exp_name\",  \"data\", \"l2DS\", \"enrichment-k50\", \"enrichment-k100\", \"mmd\", \"total_cost\", \"avg_cost\"])\n",
    "results_w = pd.DataFrame(columns=[\"drug\", \"model\", \"exp_name\",  \"data\", \"mmd_w\", \"mmd_w_rs\", \"weights_mean\", \"weights_std\", \"total_cost_w\", \"avg_cost_w\"])\n",
    "\n",
    "# specify the directory where the results are stored \n",
    "#outroot = Path(\"../../unot/results/rebuttal/rebuttal/0922_submission\")\n",
    "outroot = Path(\"../results/cell/1312_reproduced\")\n",
    "\n",
    "for drug in os.listdir(outroot):\n",
    "    if drug in DRUGS:\n",
    "        outdir = outroot / drug\n",
    "        if outdir.is_dir():\n",
    "            for data in os.listdir(outdir):\n",
    "                if data in [\"8h_subm\", \"24h_subm\"]:\n",
    "                    e = outdir / data\n",
    "                    if e.is_dir():\n",
    "                        for exp_name in os.listdir(outdir / data):\n",
    "                            if exp_name in [\n",
    "                                \"cellot\", \n",
    "                                \"ubot_gan\",\n",
    "                                \"nubot\", \n",
    "                                \"naive\",\n",
    "                                \"discrete\",\n",
    "                                \"gaussian_approx\",\n",
    "                                \"gaussian_approx_unb\",\n",
    "                            ]:\n",
    "                                d = outdir / data / exp_name\n",
    "                                for model_name in os.listdir(d):\n",
    "                                    if model_name.startswith(\"model-\"):\n",
    "                                        model_dir = Path(d / model_name / \"evals_iid_data_space\")\n",
    "                                        p = model_dir / \"evals.csv\"\n",
    "\n",
    "                                        if os.path.exists(p):\n",
    "                                            row = pd.read_csv(p, header=None).set_index(0).T\n",
    "                                            row[\"drug\"]=drug\n",
    "                                            if data.endswith(\"_rebuttal\"):\n",
    "                                                data = data.replace(\"_rebuttal\", \"\")\n",
    "                                                model_name = model_name + \"_norm\"\n",
    "                                            if exp_name == \"gaussian_approx_unb\":\n",
    "                                                model_name = \"model-gaussian-unb\"\n",
    "                                            row[\"model\"] = model_name\n",
    "                                            if data == \"8h\":\n",
    "                                                exp_name = exp_name + \"_old_data\"\n",
    "                                            row[\"exp_name\"] = exp_name\n",
    "                                            row[\"data\"] = data\n",
    "                                            results = results.append(row, ignore_index=True)\n",
    "\n",
    "                                        p = model_dir / \"evals_weights.csv\"\n",
    "                                        if os.path.exists(p):\n",
    "                                            row = pd.read_csv(p, header=None).set_index(0).T\n",
    "                                            row[\"drug\"]=drug\n",
    "                                            row[\"model\"] = model_name\n",
    "                                            row[\"exp_name\"] = exp_name\n",
    "                                            row[\"data\"] = data\n",
    "                                            results_w = results_w.append(row, ignore_index=True)"
   ]
  },
  {
   "cell_type": "code",
   "execution_count": null,
   "metadata": {},
   "outputs": [],
   "source": [
    "results[results[\"drug\"] == \"dasatinib\"].head()"
   ]
  },
  {
   "cell_type": "code",
   "execution_count": null,
   "metadata": {},
   "outputs": [],
   "source": [
    "results_w.head()"
   ]
  },
  {
   "cell_type": "code",
   "execution_count": null,
   "metadata": {},
   "outputs": [],
   "source": [
    "path = outroot / Path(\"evals_summary.csv\")\n",
    "results.to_csv(path)\n",
    "\n",
    "path = outroot / Path(\"evals_weights_summary.csv\")\n",
    "results_w.to_csv(path)"
   ]
  },
  {
   "cell_type": "markdown",
   "metadata": {},
   "source": [
    "# Visualize Results"
   ]
  },
  {
   "cell_type": "code",
   "execution_count": null,
   "metadata": {},
   "outputs": [],
   "source": [
    "# join un-weighted and weighted results\n",
    "rv = results.set_index([\"drug\", \"model\", \"exp_name\", \"data\"]).join(results_w.set_index([\"drug\", \"model\", \"exp_name\", \"data\"]))\n",
    "rv = rv.reset_index()\n",
    "rv.drug = rv.drug.str.capitalize()"
   ]
  },
  {
   "cell_type": "code",
   "execution_count": null,
   "metadata": {},
   "outputs": [],
   "source": [
    "# replace weighted metrics by un-weighted if they don't exist (i.e., for balanced models)\n",
    "replace_dict = {}\n",
    "for w2_col in rv.filter(regex=\"w2\").columns:\n",
    "    if \"_w\" not in w2_col:\n",
    "        replace_dict[\"w2_\" + \"w_\" + w2_col.split(\"w2_\")[-1]] = rv[w2_col]\n",
    "        replace_dict[\"w2_\" + \"w_rs_\" + w2_col.split(\"w2_\")[-1]] = rv[w2_col]\n",
    "replace_dict[\"mmd_w\"] = rv[\"mmd\"]\n",
    "replace_dict[\"avg_cost_w\"] = rv[\"avg_cost\"]\n",
    "rv = rv.fillna(replace_dict)"
   ]
  },
  {
   "cell_type": "code",
   "execution_count": null,
   "metadata": {},
   "outputs": [],
   "source": [
    "rv.head()"
   ]
  },
  {
   "cell_type": "code",
   "execution_count": null,
   "metadata": {},
   "outputs": [],
   "source": [
    "# replace names\n",
    "rv[\"model\"] = rv[\"model\"].replace(\n",
    "    {\n",
    "        \"model-nubot\": \"NubOT\",\n",
    "        \"model-cellot\": \"CellOT\",\n",
    "        \"model-gan\": \"ubOT GAN\",\n",
    "        \"model-identity\": \"Identity\",\n",
    "        \"model-control\": \"Observed\",\n",
    "        \"model-ot\": \"Discrete OT\",\n",
    "        \"model-gaussian\": \"Gaussian Approx\",\n",
    "        \"model-gaussian-unb\": \"Gaussian Approx Unb\",\n",
    "        \"model-ubot\": \"Discrete UBOT\",\n",
    "        \"model-nubot_v1_norm\": \"NubOT_norm\",\n",
    "    }\n",
    ")"
   ]
  },
  {
   "cell_type": "code",
   "execution_count": null,
   "metadata": {},
   "outputs": [],
   "source": [
    "palette=[\"#F2545B\", \"#A7BED3\", \"#316594\", \"#cccccc\", \"#b0aeae\", \"#C4B5D0\",\"#966EA7\", \"#8c0e25\"]"
   ]
  },
  {
   "cell_type": "code",
   "execution_count": null,
   "metadata": {},
   "outputs": [],
   "source": [
    "# available hyperparameters for w2-distance\n",
    "rv.filter(regex=\"w2_w_\").columns"
   ]
  },
  {
   "cell_type": "code",
   "execution_count": null,
   "metadata": {},
   "outputs": [],
   "source": [
    "# fix negative values\n",
    "\n",
    "#rv[(rv[\"model\"] == \"NubOT\") & (rv[\"drug\"] == \"Panobinostat\")].loc[:,\"w2_w_5_0.95\"] = rv[(rv[\"model\"] == \"NubOT\") & (rv[\"drug\"] == \"Panobinostat\")].loc[:,\"w2_w_5_0.95\"]\n",
    "#rv.loc[95,\"w2_w_5_0.95\"] = rv.loc[95,\"w2_w_2_0.95\"]\n",
    "#rv.loc[6,\"w2_w_5_0.95\"] = rv.loc[6,\"w2_w_4_0.95\"]\n",
    "#rv.loc[84,\"w2_w_5_0.95\"] = rv.loc[84,\"w2_w_4_0.95\"]\n",
    "#rv.loc[120,\"w2_w_5_0.95\"] = rv.loc[120,\"w2_w_4_0.95\"]\n",
    "#rv.loc[354,\"w2_w_5_0.95\"] = rv.loc[354,\"w2_w_4_0.95\"]\n",
    "#rv.loc[444,\"w2_w_5_0.95\"] = rv.loc[444,\"w2_w_4_0.95\"]"
   ]
  },
  {
   "cell_type": "code",
   "execution_count": null,
   "metadata": {},
   "outputs": [],
   "source": [
    "plt.figure(figsize=(20,3.6))\n",
    "\n",
    "#plt.rcParams[\"font.size\"] = 11\n",
    "sns.set_context(context='talk', font_scale=1.0)\n",
    "\n",
    "labels = {\"mmd_w\": \"Weighted MMD\", \"w2_w\": \"Weighted Wasserstein Distance\"}\n",
    "\n",
    "sb = rv\n",
    "# sb = sb[sb[\"drug\"] != \"panobinostat\"]\n",
    "timestep = \"8h_subm\"\n",
    "\n",
    "if True:\n",
    "    plt.figure(figsize=(20,3.6))\n",
    "\n",
    "    # specify which metric to plot\n",
    "    # metric = \"w2_w_1_1.0\"\n",
    "    # metric = \"w2_w_5_0.95\"\n",
    "    metric = \"mmd_w\"\n",
    "    \n",
    "    log = True\n",
    "    sb = sb[sb[\"data\"] == timestep]\n",
    "    hue_order=[\"NubOT\", \"CellOT\", \"ubOT GAN\", \"Identity\", \"Observed\", \"Discrete OT\", \"Gaussian Approx\"]#, \"Gaussian Approx Unb\"]\n",
    "    g = sns.barplot(data=sb, y=metric, x=\"drug\", hue=\"model\", palette=palette, hue_order=hue_order, log=log)\n",
    "    plt.xticks(rotation=45, ha=\"right\")\n",
    "    if metric in labels.keys():\n",
    "        label = labels[metric]\n",
    "    else:\n",
    "        label = metric\n",
    "    plt.legend(bbox_to_anchor=(1, 2), ncol=int(len(hue_order)))\n",
    "    \n",
    "    if metric == \"w2_w_5_0.95\":\n",
    "        label = \"Weighted Wasserstein Distance\"\n",
    "    g.set(ylabel=label, xlabel=\"Drug\")\n",
    "    t = timestep.replace(\"_subm\", \"\")\n",
    "    plt.title(f\"Timestep: {t}\")\n",
    "    \n",
    "    m = metric.replace(\".\", \"-\")\n",
    "    # plt.savefig(f\"{timestep}_{m}_COMPLETE.pdf\", bbox_inches=\"tight\", format=\"pdf\")\n",
    "    plt.show()"
   ]
  },
  {
   "cell_type": "code",
   "execution_count": null,
   "metadata": {},
   "outputs": [],
   "source": []
  }
 ],
 "metadata": {
  "kernelspec": {
   "display_name": "Python 3.8.5 ('nubot')",
   "language": "python",
   "name": "python3"
  },
  "language_info": {
   "codemirror_mode": {
    "name": "ipython",
    "version": 3
   },
   "file_extension": ".py",
   "mimetype": "text/x-python",
   "name": "python",
   "nbconvert_exporter": "python",
   "pygments_lexer": "ipython3",
   "version": "3.8.5"
  },
  "orig_nbformat": 4,
  "vscode": {
   "interpreter": {
    "hash": "d21eb148477a24b3b4bdfd759c2c8cd8a46c515046b306106c1cecd850ac50db"
   }
  }
 },
 "nbformat": 4,
 "nbformat_minor": 2
}
