{
 "cells": [
  {
   "cell_type": "code",
   "execution_count": null,
   "metadata": {},
   "outputs": [],
   "source": [
    "import numpy as np\n",
    "import pandas as pd\n",
    "\n",
    "import matplotlib.pyplot as plt\n",
    "import seaborn as sns"
   ]
  },
  {
   "cell_type": "code",
   "execution_count": null,
   "metadata": {},
   "outputs": [],
   "source": [
    "ann08= pd.read_csv(\"../datasets/4i-raw/scdata_and_conditions_MelTimecourse_CD_8h_raw.csv\")\n",
    "ann24= pd.read_csv(\"../datasets/4i-raw/scdata_and_conditions_MelTimecourse_CD_24h_raw.csv\")"
   ]
  },
  {
   "cell_type": "code",
   "execution_count": null,
   "metadata": {},
   "outputs": [],
   "source": [
    "def compute_growth_factor(ann):\n",
    "    n_cells_per_well=pd.DataFrame(ann.groupby([\"row\", \"col\"]).count()[\"Nuclei_Morphology_Area\"]).rename(columns={\"Nuclei_Morphology_Area\": \"n_cells\"})\n",
    "\n",
    "    # max = mean --> per well only one value for \"Condition\"\n",
    "    assert (ann.groupby([\"row\", \"col\"]).max()[\"Condition\"]==ann.groupby([\"row\", \"col\"]).min()[\"Condition\"]).all()\n",
    "    condition_per_well = pd.DataFrame(ann.groupby([\"row\", \"col\"]).max()[\"Condition\"])\n",
    "\n",
    "    apop_per_well = pd.DataFrame(ann.groupby([\"row\", \"col\"]).mean()[[\"class_apop\", \"class_prolif\"]])\n",
    "    apop_per_well[\"class_apop\"] = 1 - apop_per_well[\"class_apop\"]\n",
    "\n",
    "    well_stats = n_cells_per_well.join(condition_per_well, how=\"left\")\n",
    "    well_stats = well_stats.join(apop_per_well, how=\"left\")\n",
    "    \n",
    "    well_stats[\"growth_factor\"] = well_stats[\"n_cells\"] / well_stats[well_stats[\"Condition\"] == \"Control\"][\"n_cells\"].mean()\n",
    "    well_stats[well_stats[\"Condition\"] == \"Control\"]\n",
    "    growth_stats_per_drug = well_stats.groupby(\"Condition\").mean().reset_index()\n",
    "    growth_stats_per_drug[\"Condition\"]=growth_stats_per_drug[\"Condition\"].astype(str)\n",
    "    return growth_stats_per_drug"
   ]
  },
  {
   "cell_type": "code",
   "execution_count": null,
   "metadata": {},
   "outputs": [],
   "source": [
    "growth_stats_per_drug_08 = compute_growth_factor(ann08)\n",
    "growth_stats_per_drug_24 = compute_growth_factor(ann24)\n",
    "\n",
    "growth_stats_per_drug = pd.merge(growth_stats_per_drug_08, growth_stats_per_drug_24, on=\"Condition\", suffixes=(\"_08h\", \"_24h\"))"
   ]
  },
  {
   "cell_type": "code",
   "execution_count": null,
   "metadata": {},
   "outputs": [],
   "source": [
    "growth_stats_per_drug.filter(regex=\"growth|Condition\").to_csv(\"../datasets/4i/growth_rates.csv\")"
   ]
  },
  {
   "cell_type": "markdown",
   "metadata": {},
   "source": [
    "## Visualization for 8h"
   ]
  },
  {
   "cell_type": "code",
   "execution_count": null,
   "metadata": {},
   "outputs": [],
   "source": [
    "ann = ann08\n",
    "n_cells_per_well=pd.DataFrame(ann.groupby([\"row\", \"col\"]).count()[\"Nuclei_Morphology_Area\"]).rename(columns={\"Nuclei_Morphology_Area\": \"n_cells\"})\n",
    "\n",
    "# max = mean --> per well only one value for \"Condition\"\n",
    "assert (ann.groupby([\"row\", \"col\"]).max()[\"Condition\"]==ann.groupby([\"row\", \"col\"]).min()[\"Condition\"]).all()\n",
    "condition_per_well = pd.DataFrame(ann.groupby([\"row\", \"col\"]).max()[\"Condition\"])\n",
    "\n",
    "apop_per_well = pd.DataFrame(ann.groupby([\"row\", \"col\"]).mean()[[\"class_apop\", \"class_prolif\"]])\n",
    "apop_per_well[\"class_apop\"] = 1 - apop_per_well[\"class_apop\"]\n",
    "\n",
    "well_stats = n_cells_per_well.join(condition_per_well, how=\"left\")\n",
    "well_stats = well_stats.join(apop_per_well, how=\"left\")\n",
    "\n",
    "well_stats[\"growth_factor\"] = well_stats[\"n_cells\"] / well_stats[well_stats[\"Condition\"] == \"Control\"][\"n_cells\"].mean()\n",
    "well_stats[well_stats[\"Condition\"] == \"Control\"]\n",
    "growth_stats_per_drug = well_stats.groupby(\"Condition\").mean().reset_index()\n",
    "growth_stats_per_drug[\"Condition\"]=growth_stats_per_drug[\"Condition\"].astype(str)"
   ]
  },
  {
   "cell_type": "code",
   "execution_count": null,
   "metadata": {},
   "outputs": [],
   "source": [
    "plt.figure(figsize=(5,10))\n",
    "sns.boxplot(data=well_stats, y=\"Condition\", x=\"n_cells\", order=np.unique(well_stats[\"Condition\"]))\n",
    "plt.title(\"Number of cells per well\")"
   ]
  },
  {
   "cell_type": "code",
   "execution_count": null,
   "metadata": {},
   "outputs": [],
   "source": [
    "# looks exactly like the one from Gabriele\n",
    "plt.figure(figsize=(5,10))\n",
    "sns.boxplot(data=well_stats, y=\"Condition\", x=\"growth_factor\", order=np.unique(well_stats[\"Condition\"]))\n",
    "plt.title(\"Number of cells per well / mean(control)\")"
   ]
  },
  {
   "cell_type": "code",
   "execution_count": null,
   "metadata": {},
   "outputs": [],
   "source": []
  }
 ],
 "metadata": {
  "kernelspec": {
   "display_name": "Python 3.8.5 ('unot')",
   "language": "python",
   "name": "python3"
  },
  "language_info": {
   "codemirror_mode": {
    "name": "ipython",
    "version": 3
   },
   "file_extension": ".py",
   "mimetype": "text/x-python",
   "name": "python",
   "nbconvert_exporter": "python",
   "pygments_lexer": "ipython3",
   "version": "3.8.5"
  },
  "orig_nbformat": 4,
  "vscode": {
   "interpreter": {
    "hash": "6ac7d3e7f0dc545c0ce80423869bba77a5e4f8fb61971173dab274e6d4973827"
   }
  }
 },
 "nbformat": 4,
 "nbformat_minor": 2
}
